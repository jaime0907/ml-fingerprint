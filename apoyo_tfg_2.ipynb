{
 "cells": [
  {
   "cell_type": "code",
   "execution_count": 1,
   "metadata": {},
   "outputs": [],
   "source": [
    "from ml_fingerprint import ml_fingerprint, example_models, remote"
   ]
  },
  {
   "cell_type": "code",
   "execution_count": 2,
   "metadata": {},
   "outputs": [],
   "source": [
    "from datetime import datetime\n",
    "d = datetime.now()"
   ]
  },
  {
   "cell_type": "code",
   "execution_count": 3,
   "metadata": {},
   "outputs": [],
   "source": [
    "model, score = example_models.rain_classifier()"
   ]
  },
  {
   "cell_type": "code",
   "execution_count": 4,
   "metadata": {},
   "outputs": [],
   "source": [
    "scores = {'Accuracy': score}\n",
    "description = '''Linear classifier that predicts if it will rain tomorrow.\n",
    "    The dataset is taken from Kaggle and can be found here:\n",
    "    https://www.kaggle.com/jsphyg/weather-dataset-rattle-package\n",
    "    It consists of daily weather data in australian cities, and whether\n",
    "    it rained the next day or not.'''"
   ]
  },
  {
   "cell_type": "code",
   "execution_count": 5,
   "metadata": {},
   "outputs": [],
   "source": [
    "server = remote.RemoteServer('http://localhost:5000')"
   ]
  },
  {
   "cell_type": "code",
   "execution_count": 8,
   "metadata": {},
   "outputs": [],
   "source": [
    "server.insert_model(model, 'australia_rain_predict', True, 'Classification', scores, '1.0.0', {}, datetime.now(), description, \"Jaime Solsona\")"
   ]
  },
  {
   "cell_type": "code",
   "execution_count": 9,
   "metadata": {},
   "outputs": [],
   "source": [
    "model = example_models.vanderplas_regression()\n",
    "\n",
    "description = '''Example linear regressor taken from \"Python Data Science Handbook\", by Jake VanderPlas.\n",
    "    The training points follow the function y = -2x + z, with an added noise.\n",
    "    The regressor then tries to predict the value of y based on x and z values.'''"
   ]
  },
  {
   "cell_type": "code",
   "execution_count": 22,
   "metadata": {},
   "outputs": [],
   "source": [
    "import numpy as np\n",
    "rng = np.random.RandomState(1)\n",
    "X = rng.randn(100, 2)\n",
    "y = -2*X[:,0] + X[:,1]\n",
    "y_pred = model.predict(X)\n",
    "\n"
   ]
  },
  {
   "cell_type": "code",
   "execution_count": 25,
   "metadata": {},
   "outputs": [],
   "source": [
    "from sklearn import metrics\n",
    "mse = metrics.mean_squared_error(y, y_pred)\n",
    "r2 = metrics.r2_score(y, y_pred)\n",
    "scores = {}\n",
    "scores['MSE'] = mse\n",
    "scores['R2'] = r2"
   ]
  },
  {
   "cell_type": "code",
   "execution_count": 27,
   "metadata": {},
   "outputs": [],
   "source": [
    "server.insert_model(model, 'vanderplas_regression_example', True, 'Regression', scores, '1.0.0', {}, datetime.now(), description, \"Jaime Solsona\")"
   ]
  },
  {
   "cell_type": "code",
   "execution_count": null,
   "metadata": {},
   "outputs": [],
   "source": []
  }
 ],
 "metadata": {
  "kernelspec": {
   "display_name": "Python 3",
   "language": "python",
   "name": "python3"
  },
  "language_info": {
   "codemirror_mode": {
    "name": "ipython",
    "version": 3
   },
   "file_extension": ".py",
   "mimetype": "text/x-python",
   "name": "python",
   "nbconvert_exporter": "python",
   "pygments_lexer": "ipython3",
   "version": "3.8.5"
  }
 },
 "nbformat": 4,
 "nbformat_minor": 4
}
