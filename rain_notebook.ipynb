{
 "cells": [
  {
   "cell_type": "code",
   "execution_count": 1,
   "metadata": {},
   "outputs": [],
   "source": [
    "from ml_fingerprint import ml_fingerprint, example_models\n",
    "from sklearn.linear_model import LinearRegression\n",
    "from sklearn.linear_model import LogisticRegression\n",
    "import numpy as np\n",
    "from sklearn.datasets import make_blobs\n",
    "from sklearn.svm import SVC\n",
    "from sklearn.preprocessing import MinMaxScaler\n",
    "from sklearn.model_selection import train_test_split\n",
    "from sklearn.metrics import accuracy_score\n",
    "from sklearn.cluster import KMeans\n",
    "import csv\n",
    "import pandas as pd\n",
    "\n",
    "\n",
    "model, score = example_models.rain_classifier()"
   ]
  },
  {
   "cell_type": "code",
   "execution_count": 2,
   "metadata": {},
   "outputs": [],
   "source": [
    "\n",
    "dataset = pd.read_csv('datasets/weatherAUS.csv')\n",
    "\n",
    "# Drop the RISK_MM column following the dataset owner recomendation for classifiers.\n",
    "dataset.drop('RISK_MM', axis=1, inplace=True)\n",
    "\n",
    "# Through recursive testing, we have determined that these columns have little to no impact\n",
    "# on the precision of the model.\n",
    "# The score only drops a mere 0.03% when deleting these columns, from 0.8495 to 0.8491.\n",
    "droppable_cols = ['MinTemp', 'Evaporation', 'WindDir9am', 'WindSpeed9am', 'Temp3pm',\n",
    "                'RainToday', 'MaxTemp', 'Sunshine', 'WindGustDir', 'Humidity9am',\n",
    "                'Cloud9am', 'Temp9am', 'WindDir3pm']\n",
    "for col in droppable_cols:\n",
    "    dataset.drop(col, axis=1, inplace=True)\n",
    "\n",
    "# Dividing columns in numerical and categorical\n",
    "categorical = []\n",
    "numerical = []\n",
    "for col in dataset.columns:\n",
    "    if dataset.dtypes[col] == 'O':\n",
    "        categorical.append(col)\n",
    "    else:\n",
    "        numerical.append(col)\n",
    "\n",
    "# Convert Date to separate year, month and day values\n",
    "dataset['Year'] = pd.to_datetime(dataset['Date']).dt.year\n",
    "dataset['Month'] = pd.to_datetime(dataset['Date']).dt.month\n",
    "dataset['Day'] = pd.to_datetime(dataset['Date']).dt.day\n",
    "# Drop Date column, as we don't need it anymore\n",
    "dataset.drop('Date', axis=1, inplace=True)\n",
    "categorical.remove('Date')\n",
    "numerical.append('Year')\n",
    "numerical.append('Month')\n",
    "numerical.append('Day')\n",
    "\n",
    "# Limiting all numerical outliers to a maximum value, set to 3 interquantile ranges (IQR) starting from 75%.\n",
    "for col in numerical:\n",
    "    IQR = dataset[col].quantile(0.75) - dataset[col].quantile(0.25)\n",
    "    max_outlier = dataset[col].quantile(0.75) + (IQR * 3)\n",
    "    #print(col + \", max: \" + str(max_outlier) + \", count: \" + str(np.where(dataset[col]>max_outlier, 1, 0).sum()))\n",
    "    dataset[col] = np.where(dataset[col]>max_outlier, max_outlier, dataset[col])\n",
    "\n",
    "# Fill the NaN numerical values with median\n",
    "for col in numerical:\n",
    "    col_median=dataset[col].median()\n",
    "    dataset[col].fillna(col_median, inplace=True)\n",
    "\n",
    "# Fill the NaN categorical values with mode\n",
    "for col in categorical:\n",
    "    dataset[col].fillna(dataset[col].mode()[0], inplace=True)\n",
    "\n",
    "# Setting Y value as whether if it will rain tomorrow or not, and dropping it from main dataset.\n",
    "Y = dataset['RainTomorrow']\n",
    "dataset.drop('RainTomorrow', axis=1, inplace=True)\n",
    "categorical.remove('RainTomorrow')\n",
    "\n",
    "\n",
    "# Setting X value as all the other columns, converting the categorical ones into dummy values \n",
    "# Dummy values are binary columns for each category in the original column, for whether the row \n",
    "# belongs to that category or not.\n",
    "X = dataset[numerical]\n",
    "list_X = [X]\n",
    "for col in categorical:\n",
    "    list_X.append(pd.get_dummies(dataset[col]))\n",
    "X = pd.concat(list_X, axis=1)\n",
    "\n",
    "# Normalize all data\n",
    "cols = X.columns\n",
    "scaler = MinMaxScaler()\n",
    "X = scaler.fit_transform(X)\n",
    "X = pd.DataFrame(X, columns=[cols])\n",
    "\n",
    "# Split X and Y data into train and test, with a 70%/30% ratio.\n",
    "# This also randomizes the data order before splitting the top 70% and the last 30%.\n",
    "X_train, X_test, y_train, y_test = train_test_split(X, Y, test_size = 0.3, random_state = 0)\n",
    "\n",
    "# instantiate the model\n",
    "model = LogisticRegression(solver='liblinear', random_state=0)\n",
    "\n",
    "\n",
    "# fit the model\n",
    "model.fit(X_train, y_train)\n",
    "\n",
    "y_pred_test = model.predict(X_test)\n",
    "\n"
   ]
  },
  {
   "cell_type": "code",
   "execution_count": 3,
   "metadata": {},
   "outputs": [
    {
     "name": "stdout",
     "output_type": "stream",
     "text": [
      "[[0.73561817 0.03882039]\n",
      " [0.11207745 0.11348399]]\n"
     ]
    },
    {
     "data": {
      "image/png": "[encoded data removed]",
      "text/plain": [
       "<Figure size 432x288 with 2 Axes>"
      ]
     },
     "metadata": {
      "needs_background": "light"
     },
     "output_type": "display_data"
    }
   ],
   "source": [
    "from sklearn.metrics import confusion_matrix, plot_confusion_matrix, f1_score\n",
    "\n",
    "print(confusion_matrix(y_test, y_pred_test)/len(y_test))\n",
    "\n",
    "con = plot_confusion_matrix(model, X_test, y_test, normalize=\"all\")\n",
    "con.figure_.savefig('confusion.png', dpi=300)"
   ]
  },
  {
   "cell_type": "code",
   "execution_count": 4,
   "metadata": {},
   "outputs": [
    {
     "name": "stdout",
     "output_type": "stream",
     "text": [
      "['No' 'No' 'No' ... 'No' 'No' 'No']\n"
     ]
    }
   ],
   "source": [
    "y_testb = np.where(y_test == \"No\", 0, 1)\n",
    "y_pred_testb = np.where(y_pred_test == \"No\", 0, 1)\n",
    "print(y_pred_test)"
   ]
  },
  {
   "cell_type": "code",
   "execution_count": 5,
   "metadata": {},
   "outputs": [
    {
     "data": {
      "text/plain": [
       "0.6006576090328184"
      ]
     },
     "execution_count": 5,
     "metadata": {},
     "output_type": "execute_result"
    }
   ],
   "source": [
    "f1_score(y_testb, y_pred_testb)"
   ]
  },
  {
   "cell_type": "code",
   "execution_count": 32,
   "metadata": {},
   "outputs": [],
   "source": []
  },
  {
   "cell_type": "code",
   "execution_count": 10,
   "metadata": {},
   "outputs": [
    {
     "name": "stderr",
     "output_type": "stream",
     "text": [
      "C:\\Users\\jaime\\Miniconda3\\envs\\tfg\\lib\\site-packages\\yellowbrick\\model_selection\\importances.py:194: YellowbrickWarning: detected multi-dimensional feature importances but stack=False, using mean to aggregate them.\n",
      "  warnings.warn(\n"
     ]
    },
    {
     "data": {
      "image/png": "[encoded data removed]",
      "text/plain": [
       "<Figure size 576x396 with 1 Axes>"
      ]
     },
     "metadata": {},
     "output_type": "display_data"
    },
    {
     "data": {
      "text/plain": [
       "<AxesSubplot:title={'center':'Feature Importances of Top 5 Features using LogisticRegression'}, xlabel='relative coefficient magnitude'>"
      ]
     },
     "execution_count": 10,
     "metadata": {},
     "output_type": "execute_result"
    }
   ],
   "source": [
    "from yellowbrick.model_selection import FeatureImportances\n",
    "viz = FeatureImportances(model, topn=5)\n",
    "viz.fit(X, Y)\n",
    "viz.show()"
   ]
  },
  {
   "cell_type": "code",
   "execution_count": 19,
   "metadata": {},
   "outputs": [],
   "source": [
    "import matplotlib.pyplot as plt\n"
   ]
  },
  {
   "cell_type": "code",
   "execution_count": 18,
   "metadata": {},
   "outputs": [],
   "source": [
    "viz.fig.savefig('features.png', dpi=300)"
   ]
  },
  {
   "cell_type": "code",
   "execution_count": 20,
   "metadata": {},
   "outputs": [],
   "source": [
    "import sympy as sym"
   ]
  },
  {
   "cell_type": "code",
   "execution_count": 21,
   "metadata": {},
   "outputs": [],
   "source": [
    "tp = sym.Symbol('tp')\n",
    "fp = sym.Symbol('fp')\n",
    "fn = sym.Symbol('fn')"
   ]
  },
  {
   "cell_type": "code",
   "execution_count": 25,
   "metadata": {},
   "outputs": [],
   "source": [
    "pre = tp/(tp+fp)\n",
    "ex = tp/(tp+fn)"
   ]
  },
  {
   "cell_type": "code",
   "execution_count": 28,
   "metadata": {},
   "outputs": [],
   "source": [
    "f = 2*pre*ex/(pre+ex)"
   ]
  },
  {
   "cell_type": "code",
   "execution_count": 29,
   "metadata": {},
   "outputs": [
    {
     "data": {
      "text/latex": [
       "$\\displaystyle \\frac{2 tp}{fn + fp + 2 tp}$"
      ],
      "text/plain": [
       "2*tp/(fn + fp + 2*tp)"
      ]
     },
     "execution_count": 29,
     "metadata": {},
     "output_type": "execute_result"
    }
   ],
   "source": [
    "sym.simplify(f)"
   ]
  },
  {
   "cell_type": "code",
   "execution_count": null,
   "metadata": {},
   "outputs": [],
   "source": []
  }
 ],
 "metadata": {
  "kernelspec": {
   "display_name": "Python 3",
   "language": "python",
   "name": "python3"
  },
  "language_info": {
   "codemirror_mode": {
    "name": "ipython",
    "version": 3
   },
   "file_extension": ".py",
   "mimetype": "text/x-python",
   "name": "python",
   "nbconvert_exporter": "python",
   "pygments_lexer": "ipython3",
   "version": "3.8.5"
  }
 },
 "nbformat": 4,
 "nbformat_minor": 4
}
